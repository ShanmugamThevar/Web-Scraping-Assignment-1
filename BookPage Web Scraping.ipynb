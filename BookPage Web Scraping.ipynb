{
 "cells": [
  {
   "cell_type": "markdown",
   "metadata": {},
   "source": [
    "# BookPage Web Scraping"
   ]
  },
  {
   "cell_type": "code",
   "execution_count": 99,
   "metadata": {},
   "outputs": [],
   "source": [
    "import requests\n",
    "from bs4 import BeautifulSoup"
   ]
  },
  {
   "cell_type": "code",
   "execution_count": 100,
   "metadata": {},
   "outputs": [],
   "source": [
    "book=requests.get('https://bookpage.com/reviews')"
   ]
  },
  {
   "cell_type": "code",
   "execution_count": 101,
   "metadata": {},
   "outputs": [],
   "source": [
    "soup=BeautifulSoup(book.content, 'html.parser')\n"
   ]
  },
  {
   "cell_type": "code",
   "execution_count": 102,
   "metadata": {},
   "outputs": [],
   "source": [
    "Book_name = []   \n",
    "Author_name = [] \n",
    "Genre = [] \n",
    "Book_review = []"
   ]
  },
  {
   "cell_type": "code",
   "execution_count": 103,
   "metadata": {},
   "outputs": [
    {
     "data": {
      "text/plain": [
       "[<h4 class=\"italic\">\n",
       " <a href=\"/reviews/25835-syed-m-masood-bad-muslim-discount-fiction\">The Bad Muslim Discount</a>\n",
       " </h4>,\n",
       " <h4 class=\"italic\">\n",
       " <a href=\"/reviews/25896-dayna-lorentz-feather-childrens\">Of a Feather</a>\n",
       " </h4>,\n",
       " <h4 class=\"italic\">\n",
       " <a href=\"/reviews/25912-annalee-newitz-four-lost-cities-history\">Four Lost Cities</a>\n",
       " </h4>,\n",
       " <h4 class=\"italic\">\n",
       " <a href=\"/reviews/25842-mark-harris-mike-nichols-biography\"> <span style=\"font-style:normal;\">★ </span>Mike Nichols</a>\n",
       " </h4>,\n",
       " <h4 class=\"italic\">\n",
       " <a href=\"/reviews/25921-martha-teichner-when-harry-met-minnie-biography-memoir\"> <span style=\"font-style:normal;\">★ </span>When Harry Met Minnie</a>\n",
       " </h4>]"
      ]
     },
     "execution_count": 103,
     "metadata": {},
     "output_type": "execute_result"
    }
   ],
   "source": [
    "names=soup.find_all('h4', class_='italic')\n",
    "names[0:5]"
   ]
  },
  {
   "cell_type": "code",
   "execution_count": 104,
   "metadata": {},
   "outputs": [
    {
     "name": "stdout",
     "output_type": "stream",
     "text": [
      " The Bad Muslim Discount\n",
      " Of a Feather\n",
      " Four Lost Cities\n",
      " Mike Nichols\n",
      " When Harry Met Minnie\n",
      " Good Neighbors\n",
      " Made in China\n",
      " Hitler and Stalin\n",
      " The Other Mothers\n",
      " Milo Imagines the World\n"
     ]
    }
   ],
   "source": [
    "for i in names:\n",
    "    bname=\"\"\n",
    "    for j in i.find_all('a'):\n",
    "        bname=bname+' '+j.get_text().replace(' ★ ','')\n",
    "        print(bname)\n",
    "        Book_name.append(bname)  "
   ]
  },
  {
   "cell_type": "code",
   "execution_count": 105,
   "metadata": {},
   "outputs": [
    {
     "data": {
      "text/plain": [
       "[<p class=\"genre-links hidden-phone\">\n",
       " <a href=\"/search?book_genre=fiction\">Fiction</a>\n",
       "  / \n",
       " <a href=\"/search?book_genre=coming_of_age\">Coming of Age</a>\n",
       " </p>,\n",
       " <p class=\"genre-links hidden-phone\">\n",
       " <a href=\"/search?book_genre=children_s\">Children's</a>\n",
       "  / \n",
       " <a href=\"/search?book_genre=middle_grade\">Middle Grade</a>\n",
       " </p>,\n",
       " <p class=\"genre-links hidden-phone\">\n",
       " <a href=\"/search?book_genre=nonfiction\">Nonfiction</a>\n",
       "  / \n",
       " <a href=\"/search?book_genre=history\">History</a>\n",
       "  / \n",
       " <a href=\"/search?book_genre=science\">Science</a>\n",
       " </p>,\n",
       " <p class=\"genre-links hidden-phone\">\n",
       " <a href=\"/search?book_genre=nonfiction\">Nonfiction</a>\n",
       "  / \n",
       " <a href=\"/search?book_genre=biography\">Biography</a>\n",
       "  / \n",
       " <a href=\"/search?book_genre=arts_culture\">Arts &amp; Culture</a>\n",
       " </p>,\n",
       " <p class=\"genre-links hidden-phone\">\n",
       " <a href=\"/search?book_genre=nonfiction\">Nonfiction</a>\n",
       "  / \n",
       " <a href=\"/search?book_genre=biography_memoir\">Biography &amp; Memoir</a>\n",
       "  / \n",
       " <a href=\"/search?book_genre=memoir\">Memoir</a>\n",
       " </p>]"
      ]
     },
     "execution_count": 105,
     "metadata": {},
     "output_type": "execute_result"
    }
   ],
   "source": [
    "genre= soup.find_all('p', class_='genre-links hidden-phone')\n",
    "genre[0:5]"
   ]
  },
  {
   "cell_type": "code",
   "execution_count": 106,
   "metadata": {},
   "outputs": [
    {
     "name": "stdout",
     "output_type": "stream",
     "text": [
      " Fiction\n",
      " Fiction Coming of Age\n",
      " Children's\n",
      " Children's Middle Grade\n",
      " Nonfiction\n",
      " Nonfiction History\n",
      " Nonfiction History Science\n",
      " Nonfiction\n",
      " Nonfiction Biography\n",
      " Nonfiction Biography Arts & Culture\n",
      " Nonfiction\n",
      " Nonfiction Biography & Memoir\n",
      " Nonfiction Biography & Memoir Memoir\n",
      " Fiction\n",
      " Fiction Popular Fiction\n",
      " Nonfiction\n",
      " Nonfiction Social Science\n",
      " Nonfiction Social Science Business\n",
      " Nonfiction\n",
      " Nonfiction History\n",
      " Nonfiction History European History\n",
      " Nonfiction\n",
      " Nonfiction Biography & Memoir\n",
      " Nonfiction Biography & Memoir Memoir\n",
      " Children's\n",
      " Children's Children's Picture Book\n"
     ]
    }
   ],
   "source": [
    "for i in genre:\n",
    "    bgenre=\"\"\n",
    "    for j in i.find_all('a'):\n",
    "        bgenre=bgenre+' '+j.get_text().replace('\\n','')\n",
    "        print(bgenre)\n",
    "    Genre.append(bgenre)"
   ]
  },
  {
   "cell_type": "code",
   "execution_count": 107,
   "metadata": {},
   "outputs": [
    {
     "data": {
      "text/plain": [
       "[<p class=\"excerpt\">\n",
       " Syed M. Masood mixes humor with tragedy. When it works, it’s captivating. When it doesn’t, it can feel uneven and disjointed.\n",
       " </p>,\n",
       " <p class=\"excerpt\">\n",
       " <p>Rufus the great horned owl is the self-declared “worst owl in the history of owldom.” Next to his fledgling sister, First, 6-month-old Rufus feels like a runt. An unsuccessful, can’t-hunt-to-save-his-life runt.</p>\n",
       " </p>,\n",
       " <p class=\"excerpt\">\n",
       " As Annalee Newitz shows in the marvelous <b>Four Lost Cities</b>, an ancient city’s fate was determined by complex interactions of politics, the environment and human choices.\n",
       " </p>,\n",
       " <p class=\"excerpt\">\n",
       " <p>Candid, colorful and chock-full of detail, <strong>Mike Nichols: A Life</strong> is the biography that Nichols well deserves.</p>\n",
       " </p>,\n",
       " <p class=\"excerpt\">\n",
       " <b>When Harry Met Minnie</b> is often a heart-rending read—humans and animals suffer, die and grieve—but it’s also studded with wry wit and meaningful musings on friendship.\n",
       " </p>]"
      ]
     },
     "execution_count": 107,
     "metadata": {},
     "output_type": "execute_result"
    }
   ],
   "source": [
    "review= soup.find_all('p', class_= 'excerpt')\n",
    "review[0:5]"
   ]
  },
  {
   "cell_type": "code",
   "execution_count": 108,
   "metadata": {},
   "outputs": [
    {
     "data": {
      "text/plain": [
       "['Syed M. Masood mixes humor with tragedy. When it works, it’s captivating. When it doesn’t, it can feel uneven and disjointed.',\n",
       " 'Rufus the great horned owl is the self-declared “worst owl in the history of owldom.” Next to his fledgling sister, First, 6-month-old Rufus feels like a runt. An unsuccessful, can’t-hunt-to-save-his-life runt.',\n",
       " 'As Annalee Newitz shows in the marvelous Four Lost Cities, an ancient city’s fate was determined by complex interactions of politics, the environment and human choices.',\n",
       " 'Candid, colorful\\xa0and chock-full of detail, Mike Nichols: A Life is the biography that Nichols well deserves.',\n",
       " 'When Harry Met Minnie is often a heart-rending read—humans and animals suffer, die and grieve—but it’s also studded with wry wit and meaningful musings on friendship.']"
      ]
     },
     "execution_count": 108,
     "metadata": {},
     "output_type": "execute_result"
    }
   ],
   "source": [
    "for i in review:\n",
    "    Book_review.append(i.get_text().replace('\\n',''))\n",
    "Book_review[0:5]"
   ]
  },
  {
   "cell_type": "code",
   "execution_count": 109,
   "metadata": {},
   "outputs": [
    {
     "data": {
      "text/plain": [
       "[<p class=\"sans bold\">\n",
       " Syed M. Masood\n",
       " </p>,\n",
       " <p class=\"sans bold\">\n",
       " Dayna Lorentz\n",
       " </p>,\n",
       " <p class=\"sans bold\">\n",
       " Annalee Newitz\n",
       " </p>,\n",
       " <p class=\"sans bold\">\n",
       " Mark Harris\n",
       " </p>,\n",
       " <p class=\"sans bold\">\n",
       " Martha Teichner\n",
       " </p>]"
      ]
     },
     "execution_count": 109,
     "metadata": {},
     "output_type": "execute_result"
    }
   ],
   "source": [
    "author=soup.find_all('p', class_='sans bold')\n",
    "author[0:5]"
   ]
  },
  {
   "cell_type": "code",
   "execution_count": 110,
   "metadata": {},
   "outputs": [
    {
     "data": {
      "text/plain": [
       "['Syed M. Masood',\n",
       " 'Dayna Lorentz',\n",
       " 'Annalee Newitz',\n",
       " 'Mark Harris',\n",
       " 'Martha Teichner']"
      ]
     },
     "execution_count": 110,
     "metadata": {},
     "output_type": "execute_result"
    }
   ],
   "source": [
    "for i in author:\n",
    "    Author_name.append(i.get_text().replace('\\n',''))\n",
    "Author_name[0:5]\n"
   ]
  },
  {
   "cell_type": "code",
   "execution_count": 111,
   "metadata": {},
   "outputs": [
    {
     "name": "stdout",
     "output_type": "stream",
     "text": [
      "10 10 10 10\n"
     ]
    }
   ],
   "source": [
    "print(len(Book_name),len(Author_name),len(Genre),len(Book_review))"
   ]
  },
  {
   "cell_type": "code",
   "execution_count": 112,
   "metadata": {},
   "outputs": [
    {
     "data": {
      "text/html": [
       "<div>\n",
       "<style scoped>\n",
       "    .dataframe tbody tr th:only-of-type {\n",
       "        vertical-align: middle;\n",
       "    }\n",
       "\n",
       "    .dataframe tbody tr th {\n",
       "        vertical-align: top;\n",
       "    }\n",
       "\n",
       "    .dataframe thead th {\n",
       "        text-align: right;\n",
       "    }\n",
       "</style>\n",
       "<table border=\"1\" class=\"dataframe\">\n",
       "  <thead>\n",
       "    <tr style=\"text-align: right;\">\n",
       "      <th></th>\n",
       "      <th>Name</th>\n",
       "      <th>Author</th>\n",
       "      <th>Genre</th>\n",
       "      <th>Review</th>\n",
       "    </tr>\n",
       "  </thead>\n",
       "  <tbody>\n",
       "    <tr>\n",
       "      <th>0</th>\n",
       "      <td>The Bad Muslim Discount</td>\n",
       "      <td>Syed M. Masood</td>\n",
       "      <td>Fiction Coming of Age</td>\n",
       "      <td>Syed M. Masood mixes humor with tragedy. When ...</td>\n",
       "    </tr>\n",
       "    <tr>\n",
       "      <th>1</th>\n",
       "      <td>Of a Feather</td>\n",
       "      <td>Dayna Lorentz</td>\n",
       "      <td>Children's Middle Grade</td>\n",
       "      <td>Rufus the great horned owl is the self-declare...</td>\n",
       "    </tr>\n",
       "    <tr>\n",
       "      <th>2</th>\n",
       "      <td>Four Lost Cities</td>\n",
       "      <td>Annalee Newitz</td>\n",
       "      <td>Nonfiction History Science</td>\n",
       "      <td>As Annalee Newitz shows in the marvelous Four ...</td>\n",
       "    </tr>\n",
       "    <tr>\n",
       "      <th>3</th>\n",
       "      <td>Mike Nichols</td>\n",
       "      <td>Mark Harris</td>\n",
       "      <td>Nonfiction Biography Arts &amp; Culture</td>\n",
       "      <td>Candid, colorful and chock-full of detail, Mik...</td>\n",
       "    </tr>\n",
       "    <tr>\n",
       "      <th>4</th>\n",
       "      <td>When Harry Met Minnie</td>\n",
       "      <td>Martha Teichner</td>\n",
       "      <td>Nonfiction Biography &amp; Memoir Memoir</td>\n",
       "      <td>When Harry Met Minnie is often a heart-rending...</td>\n",
       "    </tr>\n",
       "  </tbody>\n",
       "</table>\n",
       "</div>"
      ],
      "text/plain": [
       "                       Name           Author  \\\n",
       "0   The Bad Muslim Discount   Syed M. Masood   \n",
       "1              Of a Feather    Dayna Lorentz   \n",
       "2          Four Lost Cities   Annalee Newitz   \n",
       "3              Mike Nichols      Mark Harris   \n",
       "4     When Harry Met Minnie  Martha Teichner   \n",
       "\n",
       "                                   Genre  \\\n",
       "0                  Fiction Coming of Age   \n",
       "1                Children's Middle Grade   \n",
       "2             Nonfiction History Science   \n",
       "3    Nonfiction Biography Arts & Culture   \n",
       "4   Nonfiction Biography & Memoir Memoir   \n",
       "\n",
       "                                              Review  \n",
       "0  Syed M. Masood mixes humor with tragedy. When ...  \n",
       "1  Rufus the great horned owl is the self-declare...  \n",
       "2  As Annalee Newitz shows in the marvelous Four ...  \n",
       "3  Candid, colorful and chock-full of detail, Mik...  \n",
       "4  When Harry Met Minnie is often a heart-rending...  "
      ]
     },
     "execution_count": 112,
     "metadata": {},
     "output_type": "execute_result"
    }
   ],
   "source": [
    "import pandas as pd\n",
    "Books=pd.DataFrame({})\n",
    "Books['Name']=Book_name[0:5]\n",
    "Books['Author']=Author_name[0:5]\n",
    "Books['Genre']=Genre[0:5]\n",
    "Books['Review']=Book_review[0:5]\n",
    "Books"
   ]
  },
  {
   "cell_type": "code",
   "execution_count": null,
   "metadata": {},
   "outputs": [],
   "source": []
  },
  {
   "cell_type": "code",
   "execution_count": null,
   "metadata": {},
   "outputs": [],
   "source": []
  },
  {
   "cell_type": "code",
   "execution_count": null,
   "metadata": {},
   "outputs": [],
   "source": []
  }
 ],
 "metadata": {
  "kernelspec": {
   "display_name": "Python 3",
   "language": "python",
   "name": "python3"
  },
  "language_info": {
   "codemirror_mode": {
    "name": "ipython",
    "version": 3
   },
   "file_extension": ".py",
   "mimetype": "text/x-python",
   "name": "python",
   "nbconvert_exporter": "python",
   "pygments_lexer": "ipython3",
   "version": "3.8.3"
  }
 },
 "nbformat": 4,
 "nbformat_minor": 4
}
